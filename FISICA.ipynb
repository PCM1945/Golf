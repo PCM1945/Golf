{
 "cells": [
  {
   "cell_type": "code",
   "execution_count": 2,
   "metadata": {},
   "outputs": [],
   "source": [
    "import matplotlib.pyplot as plt\n",
    "import numpy as np\n",
    "import seaborn as sb\n",
    "import math as mt\n",
    "import time\n",
    "import copy"
   ]
  },
  {
   "cell_type": "code",
   "execution_count": 3,
   "metadata": {},
   "outputs": [
    {
     "name": "stdout",
     "output_type": "stream",
     "text": [
      "90\n",
      "20\n",
      "0.2\n",
      "1.5\n",
      "5\n",
      "0.5\n",
      "60\n"
     ]
    }
   ],
   "source": [
    "angulo = float(input())\n",
    "angulo = ((mt.pi)/180)*angulo\n",
    "angBola = float(input())\n",
    "angBola = ((mt.pi)/180)*angBola\n",
    "tempo = float(input())\n",
    "compTaco = float(input())\n",
    "massaTaco = float(input())\n",
    "massaBola = float(input())\n",
    "distanciaBuraco = float(input())\n",
    "vTaco = angulo*compTaco/tempo\n",
    "vInicial = 2*massaTaco*vTaco/(massaBola + massaTaco)\n",
    "tempoFinal = 2*vInicial*mt.sin(angBola)/9.79"
   ]
  },
  {
   "cell_type": "code",
   "execution_count": 4,
   "metadata": {},
   "outputs": [],
   "source": [
    "t = np.linspace(0, tempoFinal, 100)\n",
    "x = t*vInicial*mt.cos(angBola)\n",
    "y = t*mt.sin(angBola)*vInicial - (9.79/2)*(t**2)\n",
    "xmax = mt.ceil(x.max()) + 1\n",
    "ymax = mt.ceil(y.max()) + 1"
   ]
  },
  {
   "cell_type": "code",
   "execution_count": 5,
   "metadata": {},
   "outputs": [
    {
     "data": {
      "image/png": "[encoded data removed]",
      "text/plain": [
       "<Figure size 432x288 with 1 Axes>"
      ]
     },
     "metadata": {
      "needs_background": "light"
     },
     "output_type": "display_data"
    },
    {
     "name": "stdout",
     "output_type": "stream",
     "text": [
      "tempo final =  1.4966403143072462\n",
      "x(tempoFinal) =  30.124628982259573\n"
     ]
    }
   ],
   "source": [
    "if xmax > ymax:\n",
    "    plt.scatter(0, xmax, color='')\n",
    "else:\n",
    "    plt.scatter(ymax, 0, color='')\n",
    "plt.plot(x, y)\n",
    "plt.scatter(distanciaBuraco, 0, color='r')\n",
    "plt.show()\n",
    "print(\"tempo final = \", tempoFinal)\n",
    "print(\"x(tempoFinal) = \", vInicial*mt.cos(angBola)*tempoFinal)"
   ]
  },
  {
   "cell_type": "code",
   "execution_count": null,
   "metadata": {},
   "outputs": [],
   "source": []
  }
 ],
 "metadata": {
  "kernelspec": {
   "display_name": "Python 3",
   "language": "python",
   "name": "python3"
  },
  "language_info": {
   "codemirror_mode": {
    "name": "ipython",
    "version": 3
   },
   "file_extension": ".py",
   "mimetype": "text/x-python",
   "name": "python",
   "nbconvert_exporter": "python",
   "pygments_lexer": "ipython3",
   "version": "3.7.4"
  }
 },
 "nbformat": 4,
 "nbformat_minor": 2
}
